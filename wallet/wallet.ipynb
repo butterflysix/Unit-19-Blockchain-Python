{
 "cells": [
  {
   "cell_type": "code",
   "execution_count": 58,
   "metadata": {},
   "outputs": [],
   "source": [
    "import subprocess\n",
    "import json\n",
    "import os\n",
    "from constants import BTC, BTCTEST, ETH\n",
    "from pprint import pprint\n",
    "from bit import PrivateKeyTestnet\n",
    "from bit.network import NetworkAPI\n",
    "from web3 import Web3, middleware, Account\n",
    "from web3.gas_strategies.time_based import medium_gas_price_strategy\n",
    "from web3.middleware import geth_poa_middleware"
   ]
  },
  {
   "cell_type": "code",
   "execution_count": 59,
   "metadata": {},
   "outputs": [],
   "source": [
    "# connect Web3\n",
    "w3 = Web3(Web3.HTTPProvider(os.getenv('WEB3_PROVIDER', 'http://127.0.0.1:8545')))"
   ]
  },
  {
   "cell_type": "code",
   "execution_count": 60,
   "metadata": {},
   "outputs": [],
   "source": [
    "# enable PoA middleware\n",
    "w3.middleware_onion.inject(geth_poa_middleware, layer=0)\n",
    "w3.eth.setGasPriceStrategy(medium_gas_price_strategy)"
   ]
  },
  {
   "cell_type": "code",
   "execution_count": 61,
   "metadata": {},
   "outputs": [],
   "source": [
    "# include mnemonic with prefunded test tokens \n",
    "mnemonic = os.getenv(\"MNEMONIC\", \"become shaft talk pave front auction employ share toe valve miracle rain\")"
   ]
  },
  {
   "cell_type": "code",
   "execution_count": 77,
   "metadata": {},
   "outputs": [
    {
     "data": {
      "text/plain": [
       "'become shaft talk pave front auction employ share toe valve miracle rain'"
      ]
     },
     "execution_count": 77,
     "metadata": {},
     "output_type": "execute_result"
    }
   ],
   "source": [
    "mnemonic"
   ]
  },
  {
   "cell_type": "code",
   "execution_count": null,
   "metadata": {},
   "outputs": [],
   "source": [
    "command = !php hd-wallet-derive.php -g --mnemonic=\"suffer elephant glance leopard point device solar whip tip test banner inhale\" --cols=path,address,privkey,pubkey --format=json"
   ]
  },
  {
   "cell_type": "code",
   "execution_count": 99,
   "metadata": {},
   "outputs": [
    {
     "data": {
      "text/plain": [
       "'[{\"path\":\"m\\\\/44\\'\\\\/0\\'\\\\/0\\'\\\\/0\\\\/0\",\"address\":\"1F3FCkEjGiGdw3YtRySWDu7EV1MvYjx4r3\",\"privkey\":\"L3Kk89GAGGK5HU5sLCtAVABzxTsccFL9kYcVzwxozuAAbumpwzEE\",\"pubkey\":\"02c1d33cedb7aa55e9679c1bb03364b21b4d5e2a35bad499859aa3847eae1a158f\"},{\"path\":\"m\\\\/44\\'\\\\/0\\'\\\\/0\\'\\\\/0\\\\/1\",\"address\":\"1KQbUN91kJS8KhJkWRMrzxRQdckhNQ6MmT\",\"privkey\":\"L4nLqcrz1ZTzouy9QbwZczmpzLrGqhii4QqiAEcHtK4MD9SorMhx\",\"pubkey\":\"0397f61c19c4bdc1fef0b82b2728e204b8002578b5e771337fe27e5e16c5beb720\"},{\"path\":\"m\\\\/44\\'\\\\/0\\'\\\\/0\\'\\\\/0\\\\/2\",\"address\":\"1Pu4PQE2Nrkmk8WUAMnST9L4faF5Nvji4t\",\"privkey\":\"L4GjazZhfYagYKWgGycpfg7afUmhPXu7yRnqEz7YXXfvtDyUftVo\",\"pubkey\":\"0390372063a93a99457d38a310fb3c087e56837bbf91fd1076f7755c90c494c700\"},{\"path\":\"m\\\\/44\\'\\\\/0\\'\\\\/0\\'\\\\/0\\\\/3\",\"address\":\"13L1eqvA22A2sy4JYwkXwvsRYUct4m33sU\",\"privkey\":\"Kz1mFLFCeK8LqKmhJUVptzU62JoQKrQrNMxXUjPq43yjMZ1X7eyR\",\"pubkey\":\"030e9fa3ccf109df47964d481d0f6a102cca573ee3567a7ccaf473c0f0f2739443\"},{\"path\":\"m\\\\/44\\'\\\\/0\\'\\\\/0\\'\\\\/0\\\\/4\",\"address\":\"1K83AaxASmEJ56ym2QxAgtGTZYudGYGBhi\",\"privkey\":\"L1NLYRq4H5raEdsodqkZNCc8dBNAsdXxML7KS7WjnqPGnbE7fQTW\",\"pubkey\":\"031c10f131fcb0569abc36554aecf848012d0a2ceea453534a750ee93046ffb4ad\"},{\"path\":\"m\\\\/44\\'\\\\/0\\'\\\\/0\\'\\\\/0\\\\/5\",\"address\":\"1HdcU6K6FLpYDC161eBXFBGozdUgJ22Qts\",\"privkey\":\"L4aGNDyf5oqkzN6v9XN1h23J6pxh4fqrUbyzNvgceyR5ckdEGWLN\",\"pubkey\":\"033fcc2121c42b33e9dc3ac381bd79c94cfd3ec3d62e39b10a35fe13e490b6cb0a\"},{\"path\":\"m\\\\/44\\'\\\\/0\\'\\\\/0\\'\\\\/0\\\\/6\",\"address\":\"1C3HHMZG63u3fQxWvY2KnYZdXmb1KjDnRv\",\"privkey\":\"KyuBXas6JJUbCMDFTxWW7RLT1NyySHfxGMHdv6nG9YQ3gWqKzZ4K\",\"pubkey\":\"0397337642b26fe294399897b4ac88352ae9f9af9dec2b29488593bf5d0d0c72e6\"},{\"path\":\"m\\\\/44\\'\\\\/0\\'\\\\/0\\'\\\\/0\\\\/7\",\"address\":\"18N5H4WpNB3Zwgt9i6kS2oijg1tm8Z8hNR\",\"privkey\":\"KwZq6nBxnwRtSWwVPN3UcqdeEAtbGKRrg6yNdDnTbvMFJiihzFiW\",\"pubkey\":\"03cc425b3fecc80d32c01690d0f68ab86841abc914c300f70f30a7a1a814360e59\"},{\"path\":\"m\\\\/44\\'\\\\/0\\'\\\\/0\\'\\\\/0\\\\/8\",\"address\":\"1BY3tXiJCTPnNGYMej39BH3NWBsyybdsyC\",\"privkey\":\"KxoS43MDVDcP7adsg6PnUHz5ctfAHUyhiLtarwxstsUwPe9HkNmP\",\"pubkey\":\"020418de34d0bb4c3c543b966ff56ed771546a3882c5c5a1e692f1885016abb0d0\"},{\"path\":\"m\\\\/44\\'\\\\/0\\'\\\\/0\\'\\\\/0\\\\/9\",\"address\":\"14oK8hvp5CXLYJFU6Y8GHAAssVNzYva1p8\",\"privkey\":\"L3En2BMvYPwdzy61ArtY63PZB8ouReTuAHSWVG15zpEgYsw9jgkb\",\"pubkey\":\"02b0590a8eb5c806db85c9415109f9bed8ee5c66c855e30249bc86957533df80d4\"}]'"
      ]
     },
     "execution_count": 99,
     "metadata": {},
     "output_type": "execute_result"
    }
   ],
   "source": [
    "command[1]"
   ]
  },
  {
   "cell_type": "code",
   "execution_count": 75,
   "metadata": {},
   "outputs": [],
   "source": [
    "def derive_wallets(coin=BTC, mnemonic=mnemonic, depth=3):\n",
    "    command = f\"php ./derive -g --mnemonic='{mnemonic}' --coin={coin} --numderive={depth} --cols=path,address,privkey,pubkey --format=json\"\n",
    "    p = subprocess.Popen(command,\n",
    "        stdout=subprocess.PIPE,\n",
    "        shell=True)\n",
    "    (output, err) = p.communicate()\n",
    "    p_status = p.wait()\n",
    "    return json.loads(output)"
   ]
  },
  {
   "cell_type": "code",
   "execution_count": 64,
   "metadata": {},
   "outputs": [],
   "source": [
    "command = './derive -g --mnemonic=\"INSERT HERE\" --cols=path,address,privkey,pubkey --format=json'\n",
    "\n",
    "p = subprocess.Popen(command, stdout=subprocess.PIPE, shell=True)\n",
    "output, err = p.communicate()\n",
    "p_status = p.wait()\n",
    "\n",
    "keys = json.loads(output)\n",
    "print(keys)"
   ]
  },
  {
   "cell_type": "code",
   "execution_count": 87,
   "metadata": {},
   "outputs": [],
   "source": [
    "def derive_wallets(coin=BTC, mnemonic=mnemonic, depth=3):\n",
    "    command = f\"php ./hd-wallet-derive/hd-wallet-derive.php -g --mnemonic='{mnemonic}' --cols=path,address,privkey,pubkey --coin={coin} --numderive={depth} --format=json\"\n",
    "    \n",
    "    p = subprocess.Popen(command, stdout=subprocess.PIPE, shell=True)\n",
    "    \n",
    "    output, err = p.communicate()\n",
    "    p_status = p.wait()\n",
    "    print(output)\n",
    "    return json.loads(output)"
   ]
  },
  {
   "cell_type": "code",
   "execution_count": 67,
   "metadata": {},
   "outputs": [],
   "source": [
    "def priv_key_to_account(coin, priv_key):\n",
    "    if coin == ETH:\n",
    "        return Account.privateKeyToAccount(priv_key)\n",
    "    if coin == BTCTEST:\n",
    "        return PrivateKeyTestnet(priv_key)"
   ]
  },
  {
   "cell_type": "code",
   "execution_count": 68,
   "metadata": {},
   "outputs": [],
   "source": [
    "def create_tx(coin, account, to, amount):\n",
    "    if coin == ETH:\n",
    "        value = w3.toWei(amount, \"ether\") # convert 1.2 ETH to 120000000000 wei\n",
    "        gasEstimate = w3.eth.estimateGas({ \"to\": to, \"from\": account.address, \"amount\": value })\n",
    "        return {\n",
    "            \"to\": to,\n",
    "            \"from\": account.address,\n",
    "            \"value\": value,\n",
    "            \"gas\": gasEstimate,\n",
    "            \"gasPrice\": w3.eth.generateGasPrice(),\n",
    "            \"nonce\": w3.eth.getTransactionCount(account.address),\n",
    "            \"chainId\": w3.net.chainId\n",
    "        }\n",
    "    if coin == BTCTEST:\n",
    "        return PrivateKeyTestnet.prepare_transaction(account.address, [(to, amount, BTC)])"
   ]
  },
  {
   "cell_type": "code",
   "execution_count": 69,
   "metadata": {},
   "outputs": [],
   "source": [
    "def send_tx(coin, account, to, amount):\n",
    "    if coin == ETH:\n",
    "        raw_tx = create_tx(coin, account, to, amount)\n",
    "        signed = account.signTransaction(raw_tx)\n",
    "        return w3.eth.sendRawTransaction(signed.rawTransaction)\n",
    "    if coin == BTCTEST:\n",
    "        raw_tx = create_tx(coin, account, to, amount)\n",
    "        signed = account.sign_transaction(raw_tx)\n",
    "        return NetworkAPI.broadcast_tx_testnet(signed)"
   ]
  },
  {
   "cell_type": "code",
   "execution_count": null,
   "metadata": {},
   "outputs": [],
   "source": [
    "coins = {\n",
    "    ETH: derive_wallets(coin=ETH),\n",
    "    BTCTEST: derive_wallets(coin=BTCTEST),\n",
    "}"
   ]
  },
  {
   "cell_type": "code",
   "execution_count": null,
   "metadata": {},
   "outputs": [],
   "source": [
    "pprint(coins)"
   ]
  }
 ],
 "metadata": {
  "kernelspec": {
   "display_name": "Python [conda env:ethereum]",
   "language": "python",
   "name": "conda-env-ethereum-py"
  },
  "language_info": {
   "codemirror_mode": {
    "name": "ipython",
    "version": 3
   },
   "file_extension": ".py",
   "mimetype": "text/x-python",
   "name": "python",
   "nbconvert_exporter": "python",
   "pygments_lexer": "ipython3",
   "version": "3.7.9"
  }
 },
 "nbformat": 4,
 "nbformat_minor": 4
}
